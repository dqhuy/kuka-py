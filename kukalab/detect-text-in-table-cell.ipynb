{
 "cells": [
  {
   "attachments": {},
   "cell_type": "markdown",
   "metadata": {},
   "source": [
    "## Detect tabel cell input image has text or not"
   ]
  },
  {
   "attachments": {},
   "cell_type": "markdown",
   "metadata": {},
   "source": [
    "- gray => Blur image \n",
    "- remove lines\n",
    "- thresh binary otsu\n",
    "- dilect => contours => make conected component\n",
    "- detemine has text or not:\n",
    "    - by w/h ratio?\n",
    "    - by number of black pixels?"
   ]
  },
  {
   "cell_type": "code",
   "execution_count": 2,
   "metadata": {},
   "outputs": [],
   "source": [
    "import cv2\n",
    "import numpy\n",
    "import matplotlib.pyplot as plt"
   ]
  },
  {
   "cell_type": "code",
   "execution_count": 74,
   "metadata": {},
   "outputs": [],
   "source": [
    "filename=r\"D:\\ImageData\\table-cell\\1feb5942-b32a-11ed-b749-0242ac120003.jpg\"\n",
    "filename=r\"D:\\ImageData\\table-cell2\\1_146_0_1_1_0.jpg\"\n",
    "src=cv2.imread(filename)\n"
   ]
  },
  {
   "cell_type": "code",
   "execution_count": 83,
   "metadata": {},
   "outputs": [
    {
     "name": "stdout",
     "output_type": "stream",
     "text": [
      "3 1\n",
      "9 24\n",
      "Src shape (71, 96, 3)\n",
      "Image containt text at position: (47, 27) (56, 51)\n"
     ]
    },
    {
     "data": {
      "image/png": "[encoded data removed]",
      "text/plain": [
       "<Figure size 1000x1000 with 2 Axes>"
      ]
     },
     "metadata": {},
     "output_type": "display_data"
    }
   ],
   "source": [
    "gray=cv2.cvtColor(src,cv2.COLOR_BGR2GRAY)\n",
    "\n",
    "blur=cv2.GaussianBlur(gray,(5,5),0)\n",
    "\n",
    "ret,thresh=cv2.threshold(blur,40,200,cv2.THRESH_OTSU+cv2.THRESH_BINARY_INV)\n",
    "\n",
    "lineRemoved=gray.copy()\n",
    "# Remove horizontal lines\n",
    "horizontal_kernel = cv2.getStructuringElement(cv2.MORPH_RECT, (40,1))\n",
    "remove_horizontal = cv2.morphologyEx(thresh, cv2.MORPH_OPEN, horizontal_kernel, iterations=2)\n",
    "cnts,hierachy = cv2.findContours(remove_horizontal, cv2.RETR_EXTERNAL, cv2.CHAIN_APPROX_SIMPLE)\n",
    "cv2.drawContours(lineRemoved, cnts, -1, (255,255,255), 5)\n",
    "\n",
    "# Remove vertical lines\n",
    "vertical_kernel = cv2.getStructuringElement(cv2.MORPH_RECT, (1,40))\n",
    "remove_vertical = cv2.morphologyEx(thresh, cv2.MORPH_OPEN, vertical_kernel, iterations=2)\n",
    "cnts,hierachy = cv2.findContours(remove_vertical, cv2.RETR_EXTERNAL, cv2.CHAIN_APPROX_SIMPLE)\n",
    "cv2.drawContours(lineRemoved, cnts, -1, (255,255,255), 5)\n",
    "\n",
    "\n",
    "ret,lineRemovedThresh=cv2.threshold(lineRemoved,40,200,cv2.THRESH_OTSU+cv2.THRESH_BINARY)\n",
    "\n",
    "kernel = cv2.getStructuringElement(cv2.MORPH_RECT,(10,3))\n",
    "dilate=cv2.morphologyEx(lineRemovedThresh,cv2.MORPH_OPEN,kernel=kernel,iterations=2)\n",
    "\n",
    "edge=cv2.Canny(dilate,40,200)\n",
    "contours,hierachy=cv2.findContours(edge,cv2.RETR_TREE,cv2.CHAIN_APPROX_SIMPLE)\n",
    "\n",
    "cntImg=src.copy()\n",
    "# text block exist if has qualified contours:# w/h >10\n",
    "\n",
    "minx=-1 \n",
    "miny=-1\n",
    "maxx=-1\n",
    "maxy=-1\n",
    "for c in contours:\n",
    "    (x,y,w,h) = cv2.boundingRect(c)\n",
    "    # containt text if (w,h)>10 and total black pixel > 50% \n",
    "    segROI = lineRemovedThresh[y:y+h-1, x:x+w-1]\n",
    "    total = cv2.countNonZero(segROI)\n",
    "    area = (w) * (h)\n",
    "    print(w,h)\n",
    "\t\t# if the total number of non-zero pixels is greater than\n",
    "\t\t# 30% of the area, mark the segment as \"on\"\n",
    "    if w > 5 and h > 5 and (total / float(area) > 0.3):\n",
    "        if(minx==-1 and miny==-1):\n",
    "            minx=x\n",
    "            miny=y\n",
    "        minx=min(minx,x)\n",
    "        miny=min(miny,y)\n",
    "        maxx=max(maxx,x+w)\n",
    "        maxy=max(maxy,y+h)\n",
    "        cv2.rectangle(cntImg, (x,y), (x+w,y+h), (255, 0, 0), 1)\n",
    "\n",
    "cv2.rectangle(cntImg, (minx,miny), (maxx,maxy), (0, 0, 255), 2)\n",
    "\n",
    "print('Src shape',src.shape)\n",
    "if(minx!=-1):\n",
    "    print('Image containt text at position:',(minx,miny), (maxx,maxy))\n",
    "else:\n",
    "    print('IMAGE HAS NO TEXT')\n",
    "\n",
    "plt.figure(figsize=(10,10))\n",
    "plt.subplot(121)\n",
    "plt.axis(False)\n",
    "plt.imshow(dilate,cmap='gray')\n",
    "\n",
    "plt.subplot(122)\n",
    "plt.axis(False)\n",
    "plt.imshow(cntImg,cmap='gray')\n",
    "plt.show()"
   ]
  }
 ],
 "metadata": {
  "kernelspec": {
   "display_name": "Python 3",
   "language": "python",
   "name": "python3"
  },
  "language_info": {
   "codemirror_mode": {
    "name": "ipython",
    "version": 3
   },
   "file_extension": ".py",
   "mimetype": "text/x-python",
   "name": "python",
   "nbconvert_exporter": "python",
   "pygments_lexer": "ipython3",
   "version": "3.9.13"
  },
  "orig_nbformat": 4,
  "vscode": {
   "interpreter": {
    "hash": "e1ff10cca0cab7157f9de13b6953f0eb84d2d8405ca6c10d4f71b86585203ad1"
   }
  }
 },
 "nbformat": 4,
 "nbformat_minor": 2
}
