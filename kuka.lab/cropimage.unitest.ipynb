{
 "cells": [
  {
   "cell_type": "markdown",
   "metadata": {},
   "source": [
    "# Unit Test for Crop Document"
   ]
  },
  {
   "cell_type": "code",
   "execution_count": 1,
   "metadata": {},
   "outputs": [],
   "source": [
    "%load_ext autoreload\n",
    "%autoreload 2\n",
    "\n",
    "import sys\n",
    "import os\n",
    "import glob\n",
    "from pathlib import Path\n",
    "\n",
    "import cv2\n",
    "import numpy as np\n",
    "import matplotlib.pyplot as plt"
   ]
  },
  {
   "cell_type": "code",
   "execution_count": 2,
   "metadata": {},
   "outputs": [
    {
     "name": "stdout",
     "output_type": "stream",
     "text": [
      "{'version': '0.3.5', 'date': datetime.date(2023, 7, 7)}\n"
     ]
    }
   ],
   "source": [
    "sys.path.insert(0, 'd:/Project/kuka-py/')\n",
    "runingPath=os.path.abspath(\"\")\n",
    "parentPath = Path(runingPath).resolve().parents[0]\n",
    "if(sys.path[0]!=parentPath):\n",
    "    sys.path.insert(0, parentPath)\n",
    "\n",
    "from kukalib.cardcrop  import  *\n",
    "print(getVersionInfo())"
   ]
  },
  {
   "cell_type": "code",
   "execution_count": 17,
   "metadata": {},
   "outputs": [
    {
     "name": "stdout",
     "output_type": "stream",
     "text": [
      "Pass\n"
     ]
    }
   ],
   "source": [
    "def mergingLines_byX():\n",
    "        sort_axis = 0\n",
    "        rho = 5\n",
    "        theta = 1 * np.pi / 180\n",
    "        max_gap = 50\n",
    "\n",
    "        input =np.asarray([[5.,5,100,7 ],\n",
    "                [20,6,150,4 ],\n",
    "                [170,5,190,7 ],\n",
    "                [241,5,300,5]])\n",
    "\n",
    "        expected =np.asarray(\n",
    "                [[5.,5,150,4 ],            \n",
    "                [170,5,190,7 ],\n",
    "                [241,5,300,5]])\n",
    "\n",
    "        input = convertLinePoint2RhoTheta(input)\n",
    "        actual = mergingLines(input,rho,theta,max_gap,sort_axis)\n",
    "        if np.array_equal(expected,actual):\n",
    "                print(\"Pass\")\n",
    "        else:\n",
    "                print(\"No pass\")\n",
    "     \n",
    "mergingLines_byX() "
   ]
  }
 ],
 "metadata": {
  "kernelspec": {
   "display_name": "Python 3",
   "language": "python",
   "name": "python3"
  },
  "language_info": {
   "codemirror_mode": {
    "name": "ipython",
    "version": 3
   },
   "file_extension": ".py",
   "mimetype": "text/x-python",
   "name": "python",
   "nbconvert_exporter": "python",
   "pygments_lexer": "ipython3",
   "version": "3.9.13"
  },
  "orig_nbformat": 4
 },
 "nbformat": 4,
 "nbformat_minor": 2
}
